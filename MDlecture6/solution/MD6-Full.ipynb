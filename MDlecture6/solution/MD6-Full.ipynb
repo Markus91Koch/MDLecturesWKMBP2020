{
 "cells": [
  {
   "cell_type": "markdown",
   "metadata": {},
   "source": [
    "# 6th Tutorial MD - Radial Distribution Function and Scattering Function\n",
    "\n",
    "Using LAMMPS we will simulate a single chain and a melt of chains and calculate their radial distribution function (RDF) using our own Python code. Then we will Fourier transform the RDF to obtain the scattering function of the system. You can use this code here after finishing the simulation and writing a LAMMPS dump file containing the (wrapped) coordinates.\n",
    "\n",
    "### 1. Simulate your system of choice and create a dump file \"wrapped.txt\" with the system coordinates at different times. Locate it in the same folder as thig script\n",
    "\n",
    "### 2.  Read in the file \"wrapped.txt\" containing trajectory of the system. First, take a look at the format of the file - what information is stored in what lines? After reading in the fold, the trajectory of the melt should be stored in a numpy array (Hint: Read it line by line). Here, we use the same code as in the 2nd tutorial on MD."
   ]
  },
  {
   "cell_type": "code",
   "execution_count": 1,
   "metadata": {},
   "outputs": [],
   "source": [
    "# import matplotlib\n",
    "import numpy as np\n",
    "import matplotlib.pyplot as plt\n",
    "import math \n",
    "import pandas as pd\n",
    "\n",
    "%matplotlib inline\n",
    "#%%time\n",
    "\n",
    "# define some empty lists to store data\n",
    "coords = []\n",
    "ts_long = []\n",
    "ts_real = []\n",
    "\n",
    "# read in file line by line\n",
    "filename = 'wrapped.txt'\n",
    "ts = 0 # steps stored\n",
    "read_timestep = False\n",
    "\n",
    "# simulation parameters that are not stored in this file\n",
    "dt = 0.005 # actual time step in LJ units\n",
    "\n",
    "with open(filename) as fn:\n",
    "    for i, row in enumerate(fn):\n",
    "\n",
    "        # read in coordinates\n",
    "        if len(row.split(' ')) == 7:\n",
    "            row + str(ts)\n",
    "            coords.append(row.split(' ')[:-1])\n",
    "            ts_long.append(ts)\n",
    "\n",
    "        # let's also get some extra info\n",
    "        if i == 3:\n",
    "            N = int(row)\n",
    "        if i == 5:\n",
    "            xdim = row.split(' ')\n",
    "        if i == 6:\n",
    "            ydim = row.split(' ')\n",
    "        if i == 7:\n",
    "            zdim = row.split(' ')\n",
    "        if read_timestep == True:\n",
    "            ts_real.append(np.float(row))\n",
    "            read_timestep = False\n",
    "        if 'TIMESTEP' in row:\n",
    "            ts += 1\n",
    "            read_timestep = True\n",
    "\n",
    "# calculate the system density too maybe\n",
    "coords = np.array(coords, dtype=float)   "
   ]
  },
  {
   "cell_type": "markdown",
   "metadata": {},
   "source": [
    "**Now, after reading the file, let's extract some of the basic parameters and print them.**"
   ]
  },
  {
   "cell_type": "code",
   "execution_count": 2,
   "metadata": {},
   "outputs": [
    {
     "name": "stdout",
     "output_type": "stream",
     "text": [
      "Box size:\n",
      "x=( 0.0 ,  100.0 )\n",
      "y=( 0.0 ,  100.0 )\n",
      "z=( 0.0 ,  100.0 )\n",
      "Box volume =  1000000.0\n",
      "Nr. of time steps =  101\n",
      "Time step increment between snapshots =  10000.0\n",
      "Time simulated [LJ units] =  5000.0\n",
      "Nr. of atoms =  100\n",
      "Nr. of molecules =  1\n",
      "Nr of atoms / chain = 100\n",
      "Nr. of atom types = 1.0\n",
      "Total monomer (number) density = 0.0001\n"
     ]
    }
   ],
   "source": [
    "# get the number of snapshots of the trajectory\n",
    "steps = int(np.shape(coords)[0]/N)  \n",
    "\n",
    "# Box size\n",
    "xdim = np.array(xdim, dtype=float)\n",
    "ydim = np.array(ydim, dtype=float)\n",
    "zdim = np.array(zdim, dtype=float)\n",
    "Lx = xdim[1]-xdim[0]\n",
    "Ly = ydim[1]-ydim[0]\n",
    "Lz = zdim[1]-zdim[0]\n",
    "\n",
    "V = (xdim[1]-xdim[0]) * (ydim[1]-ydim[0]) * (zdim[1]-zdim[0])\n",
    "\n",
    "print(\"Box size:\")\n",
    "print(\"x=(\",xdim[0], \", \", xdim[1], \")\")\n",
    "print(\"y=(\",ydim[0], \", \", zdim[1], \")\")\n",
    "print(\"z=(\",zdim[0], \", \", zdim[1], \")\")\n",
    "print(\"Box volume = \", V)\n",
    "\n",
    "## extract a couple of values we could use\n",
    "Natoms_alt = np.max(coords[:,0])\n",
    "Nmol = int(np.max(coords[:,1]))\n",
    "N_per_chain = int(N/Nmol)\n",
    "Ntypes = np.max(coords[:,2])\n",
    "rho = N/V\n",
    "delta_steps = ts_real[1] - ts_real[0]\n",
    "\n",
    "print(\"Nr. of time steps = \", steps)\n",
    "print(\"Time step increment between snapshots = \", delta_steps)\n",
    "print(\"Time simulated [LJ units] = \", ts_real[-1]*dt)\n",
    "print(\"Nr. of atoms = \", N)\n",
    "print(\"Nr. of molecules = \", Nmol)\n",
    "print(\"Nr of atoms / chain =\",  N_per_chain)\n",
    "print(\"Nr. of atom types =\", Ntypes)\n",
    "print(\"Total monomer (number) density =\", rho)"
   ]
  },
  {
   "cell_type": "markdown",
   "metadata": {},
   "source": [
    "<center>(Image source: http://isaacs.sourceforge.net/manual/page23_ct.html)</center>\n",
    "<img src=\"img/rdf.png\" width=200 />\n",
    "\n",
    "Next, we will calculate the RDF. This follows the same scheme as in the 2nd MD exercise but I think it is important to do this once in detail and with some more time. \n",
    "\n",
    "The RDF essentially is a histogram of particles j surrounding particle i at distance r. We also need to choose the correct normalization: The RDF compares the local system density with the density of an ideal gas of the same total density.\n",
    "\n",
    "\n",
    "### 3. Iterate through the coordinates step by step and calculate the radial distribution function g(r). Then plot it and save it to a file."
   ]
  },
  {
   "cell_type": "code",
   "execution_count": 3,
   "metadata": {},
   "outputs": [
    {
     "data": {
      "image/png": "[encoded data removed]",
      "text/plain": [
       "<Figure size 432x288 with 1 Axes>"
      ]
     },
     "metadata": {
      "needs_background": "light"
     },
     "output_type": "display_data"
    }
   ],
   "source": [
    "# this code only works for a cubic box, so let's check this first\n",
    "if (Lx == Ly == Lz):\n",
    "    L = Lx\n",
    "else:\n",
    "    print(\"Box is not cubic!\")\n",
    "\n",
    "# INITIALIZING CALCULATION\n",
    "binsz = 0.1 # bin size\n",
    "gbins = int(L/2.0/binsz) # max. number of bins\n",
    "gbin_id = np.arange(gbins) # bin indices\n",
    "gbin_center = binsz*(gbin_id+0.5) # bin centers in distance units\n",
    "        \n",
    "rdf_count = 0 # number of measurements\n",
    "g = np.zeros(gbins) # initialize the function g(r)\n",
    "\n",
    "\n",
    "# CALCULATE g(r) AT THE CURRENT SNAPSHOT\n",
    "for t in range(steps):\n",
    "    \n",
    "    # get current coordinates of snapshot\n",
    "    r = coords[t*N:(t+1)*N,3:6]\n",
    "\n",
    "    # allocate space for the \"instantaneous\" g(r)\n",
    "    g_t = np.zeros(gbins)        \n",
    "\n",
    "    # we need to consider all pairs of atoms (i and j that are not equal)\n",
    "    p = np.array([(i,j) for i in range(N) for j in range(i)])\n",
    "    i = p[:,0]\n",
    "    j = p[:,1]\n",
    "    dr = r[i,:] -  r[j,:] # vectorial particle distance\n",
    "\n",
    "    # enforce minimum image convention\n",
    "    dr[dr > 0.5*L] -= L\n",
    "    dr[dr <= -0.5*L] += L\n",
    "\n",
    "    # get absolute distances of all pairs\n",
    "    dr_abs = np.sqrt((dr * dr).sum(axis=1))\n",
    "    \n",
    "    # ignore pairs that are further than half a box length\n",
    "    inside = dr_abs < L*0.5\n",
    "    p = p[inside,:] \n",
    "    dr = dr[inside,:]\n",
    "    dr_abs = dr_abs[inside]\n",
    "\n",
    "    # binning the data = generate the histogram\n",
    "    for k, idx in enumerate(p):\n",
    "        index = int(dr_abs[k]/binsz) \n",
    "        g_t[index] += 2 # add two because each pair has two particles\n",
    "            \n",
    "    # add the \"instantaneous\" g(r) to the total g(r), later average it        \n",
    "    g = np.add(g, g_t)\n",
    "    rdf_count += 1\n",
    "    g_t = np.zeros(gbins)\n",
    "\n",
    "\n",
    "# average the data and normalize the bins\n",
    "for j in range(gbins):\n",
    "\n",
    "    # normalize by number of samples, number of particles\n",
    "    # and number of ideal gas particles in the jth shell,\n",
    "    # jth shell = the volume between bin j and bin j+1 = sphere shell of thickness \"binsz\"\n",
    "    v_shell =  np.pi*(4.0/3.0)*((j+1)*(j+1)*(j+1) - j*j*j)*binsz*binsz*binsz\n",
    "    g[j] /= rdf_count * N * v_shell *rho \n",
    "\n",
    "# plot and save to a file\n",
    "plt.figure(1)\n",
    "plt.plot(gbin_center, g)\n",
    "plt.xlabel('r')\n",
    "plt.ylabel('g(r)')\n",
    "plt.title('Radial Distribution Function')\n",
    "plt.savefig(\"rdf.png\", dpi=200)\n",
    "plt.show()\n",
    "\n",
    "# save values to a file\n",
    "rdfdata = zip(gbin_id, gbin_center, g)\n",
    "np.savetxt('rdf.txt', list(rdfdata), fmt='%f', header='bin-nr bin-center(r) g(r)')    "
   ]
  },
  {
   "cell_type": "markdown",
   "metadata": {},
   "source": [
    "For a system filled with particles the RDF always goes to 1 for large values of r, e.g. for a melt, a gas etc. \n",
    "This is a typical RDF of a melt of chains:\n",
    "\n",
    "<img src=\"img/rdf_melt.png\" width=600 />\n",
    "\n",
    "\n",
    "**Let's get the Scattering function S(q) - it is the Fourier transform of g(r).**\n",
    "\n",
    "We can calculate the Scattering function in MD either directly by scattering \"light beams\" on the particles and recording the resulting function, or by Fourier transforming the RDF. It is instructive to do this by the following formula:\n",
    "\n",
    "\\begin{equation}\n",
    "S(q) = 1 + 4 \\pi \\rho \\int_0^\\infty r (g(r) -1 ) \\frac{\\sin{qr}}{q} dr.\n",
    "\\end{equation}\n",
    "\n",
    "We can discretize this integral and apply it to our data.\n",
    "\n",
    "### 3. In the following, we create the code to Fourier transform the RDF to get S(q)."
   ]
  },
  {
   "cell_type": "code",
   "execution_count": 4,
   "metadata": {},
   "outputs": [
    {
     "name": "stdout",
     "output_type": "stream",
     "text": [
      "rho =  0.0001\n"
     ]
    },
    {
     "data": {
      "text/plain": [
       "[]"
      ]
     },
     "execution_count": 4,
     "metadata": {},
     "output_type": "execute_result"
    },
    {
     "data": {
      "image/png": "[encoded data removed]",
      "text/plain": [
       "<Figure size 432x288 with 1 Axes>"
      ]
     },
     "metadata": {
      "needs_background": "light"
     },
     "output_type": "display_data"
    }
   ],
   "source": [
    "\n",
    "print(\"rho = \", rho)\n",
    "\n",
    "## OPTIONAL: read in rdf file with g(r)\n",
    "#rdf_filename='rdf.txt'\n",
    "#data = np.loadtxt(rdf_filename, skiprows=1)\n",
    "#r = data[:,1]\n",
    "#g = data[:,2]\n",
    "\n",
    "r = gbin_center\n",
    "\n",
    "# calculate r bins\n",
    "N_rbins = len(r)\n",
    "dr = 0.5*L/N_rbins\n",
    "\n",
    "# calculate q bins\n",
    "N_qbins = int(N_rbins/2)-1\n",
    "\n",
    "# maximum and minimum q value and increment\n",
    "qmax = 2.0*np.pi/dr\n",
    "qmin = 2.0*np.pi/L\n",
    "dq = (qmax-qmin)/N_qbins\n",
    "\n",
    "q = np.zeros(N_qbins)\n",
    "S = np.zeros(N_qbins)\n",
    "\n",
    "# perform Fourier Transform from r to q space (Integral, see above)\n",
    "for i in range(N_qbins):\n",
    "    q[i] = (i+0.5)*dq+qmin\n",
    "    for j in range(N_rbins):\n",
    "        S[i] += r[j]*(g[j] - 1.0)*np.sin(q[i]*r[j])/q[i]\n",
    "    S[i] *= dr*4.0*np.pi*rho\n",
    "    S[i] += 1.0\n",
    "\n",
    "# write S(q) to file\n",
    "Sdata = zip(q, S)\n",
    "np.savetxt(\"S.txt\", list(Sdata), fmt='%f', header='bin-center(q) S(q)')\n",
    "\n",
    "# plot S(q)\n",
    "plt.figure(1)\n",
    "\n",
    "# plot data\n",
    "plt.plot(q, S, \"b-\",  lw=2.0, label=r\"$S(q)$\")\n",
    "\n",
    "# plot scaling law\n",
    "nu = 0.588 # Flory exponent\n",
    "x = np.linspace(qmin, 8.)\n",
    "plt.plot(x, 4*x**(-1./nu), \"c--\", label=r\"$q^{-1/\\nu}$\")\n",
    "\n",
    "plt.yscale('log') \n",
    "plt.xscale('log') \n",
    "plt.xlabel('q')\n",
    "plt.ylabel('S(q)')\n",
    "plt.title('Structure Factor')\n",
    "plt.legend(fontsize=18)\n",
    "\n",
    "plt.savefig(\"S.png\", dpi=200)\n",
    "plt.plot()"
   ]
  },
  {
   "cell_type": "markdown",
   "metadata": {},
   "source": [
    "This method of getting the Scattering function S(q) is very fast and easily available when you also have the RDF. If you ever need S(q) of your system it is still advisable to directly calulcate it, even though this is much slower and computationally expensive. The direct calculation can have more noise but it delivers more accurate results for small values of q. In this range (small q) the Fourier transformed S(q) has more errors because the errors of the RDF for large r are having a strong influence there.\n",
    "\n",
    "<center>Comparison of S(q) obtained by Fourier transform of the RDF or by direct calculation (single chain in good solvent):</center>\n",
    "<img src=\"img/compare_s.png\" width=600 />\n",
    "\n",
    "<center>Comparison of S(q) obtained by Fourier transform of the RDF or by direct calculation (single chain in poor solvent):</center>\n",
    "<img src=\"img/compare_s_poor.png\" width=600 />"
   ]
  },
  {
   "cell_type": "code",
   "execution_count": null,
   "metadata": {},
   "outputs": [],
   "source": []
  }
 ],
 "metadata": {
  "kernelspec": {
   "display_name": "Python 3",
   "language": "python",
   "name": "python3"
  },
  "language_info": {
   "codemirror_mode": {
    "name": "ipython",
    "version": 3
   },
   "file_extension": ".py",
   "mimetype": "text/x-python",
   "name": "python",
   "nbconvert_exporter": "python",
   "pygments_lexer": "ipython3",
   "version": "3.7.3"
  }
 },
 "nbformat": 4,
 "nbformat_minor": 2
}
